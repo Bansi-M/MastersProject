{
 "cells": [
  {
   "cell_type": "markdown",
   "metadata": {},
   "source": [
    "# Overtraining 2"
   ]
  },
  {
   "cell_type": "markdown",
   "metadata": {},
   "source": [
    "This code is bases on Adrian Bevan's \"NN_parabola - This is a Multilayer Perceptron (MLP) example using Keras\" jupyter notebook "
   ]
  },
  {
   "cell_type": "code",
   "execution_count": 342,
   "metadata": {},
   "outputs": [
    {
     "name": "stdout",
     "output_type": "stream",
     "text": [
      "\u001b[92mGenerating the parabola data set\u001b[0m\n",
      "Have generated the following data:\n",
      "\tN(test)  =  100\n",
      "\tN(train) =  200\n"
     ]
    }
   ],
   "source": [
    "import tensorflow as tf\n",
    "import random\n",
    "import numpy as np\n",
    "import warnings\n",
    "warnings.filterwarnings(\"ignore\")\n",
    "\n",
    "Ntrain = 200\n",
    "Ntest  = 100\n",
    "xmin   =-10\n",
    "xmax   = 10\n",
    "Noise  = 0.15\n",
    "print(\"\\033[92mGenerating the parabola data set\\033[0m\")\n",
    "X_train = []\n",
    "Y_train = []\n",
    "X_test  = []\n",
    "Y_test  = []\n",
    "\n",
    "\n",
    "#--------------------------------------------------------------------\n",
    "def sim_parabola(xmin, xmax, Noise):\n",
    "    \"\"\"\n",
    "    Function to simulate a random data point for a parabola\n",
    "    \"\"\"\n",
    "    x = random.random()*(xmax-xmin)+xmin\n",
    "    y = x*x*(1+random.random()*Noise)\n",
    "    \n",
    "    return x, y\n",
    "#--------------------------------------------------------------------\n",
    "  \n",
    "for i in range( Ntrain ):\n",
    "  x,y = sim_parabola(xmin, xmax, Noise)\n",
    "  X_train.append(x)\n",
    "  Y_train.append(y)\n",
    "\n",
    "for i in range( Ntest ):\n",
    "  x,y = sim_parabola(xmin, xmax, Noise)\n",
    "  X_test.append(x)\n",
    "  Y_test.append(y)\n",
    "\n",
    "# convert to nparrays\n",
    "x_test  = np.array(X_test)\n",
    "y_test  = np.array(Y_test)\n",
    "x_train = np.array(X_train)\n",
    "y_train = np.array(Y_train)\n",
    "\n",
    "print(\"Have generated the following data:\")\n",
    "print(\"\\tN(test)  = \", len(x_test))\n",
    "print(\"\\tN(train) = \", len(x_train))\n"
   ]
  },
  {
   "cell_type": "markdown",
   "metadata": {},
   "source": [
    "## Building the model"
   ]
  },
  {
   "cell_type": "code",
   "execution_count": 343,
   "metadata": {},
   "outputs": [
    {
     "name": "stdout",
     "output_type": "stream",
     "text": [
      "--------------------------------------------------------------------------------------------------------------\n",
      "\u001b[92mWill train a multilayer perceptron using some toy data following y = x^2\u001b[0m\n",
      "--------------------------------------------------------------------------------------------------------------\n",
      "\n",
      "\n",
      "Input data MNIST\n",
      "Leaky relu parameter =  0.1\n",
      "ValidationSplit      =  0.7\n",
      "BatchSize            =  25\n",
      "Nepochs              =  50\n",
      "Train on 60 samples, validate on 140 samples\n",
      "Epoch 1/50\n",
      "60/60 [==============================] - 1s 12ms/sample - loss: 1508.9033 - val_loss: 2378.2037\n",
      "Epoch 2/50\n",
      "60/60 [==============================] - 0s 603us/sample - loss: 1503.6724 - val_loss: 2370.7855\n",
      "Epoch 3/50\n",
      "60/60 [==============================] - 0s 465us/sample - loss: 1498.4987 - val_loss: 2363.0967\n",
      "Epoch 4/50\n",
      "60/60 [==============================] - 0s 449us/sample - loss: 1493.2315 - val_loss: 2354.9939\n",
      "Epoch 5/50\n",
      "60/60 [==============================] - 0s 432us/sample - loss: 1487.4553 - val_loss: 2346.6740\n",
      "Epoch 6/50\n",
      "60/60 [==============================] - 0s 515us/sample - loss: 1481.6305 - val_loss: 2337.3916\n",
      "Epoch 7/50\n",
      "60/60 [==============================] - 0s 499us/sample - loss: 1475.2949 - val_loss: 2326.9120\n",
      "Epoch 8/50\n",
      "60/60 [==============================] - 0s 515us/sample - loss: 1467.3655 - val_loss: 2315.2827\n",
      "Epoch 9/50\n",
      "60/60 [==============================] - 0s 432us/sample - loss: 1459.5262 - val_loss: 2302.4283\n",
      "Epoch 10/50\n",
      "60/60 [==============================] - 0s 482us/sample - loss: 1449.9716 - val_loss: 2288.4555\n",
      "Epoch 11/50\n",
      "60/60 [==============================] - 0s 548us/sample - loss: 1440.5105 - val_loss: 2272.3005\n",
      "Epoch 12/50\n",
      "60/60 [==============================] - 0s 432us/sample - loss: 1429.0527 - val_loss: 2254.0298\n",
      "Epoch 13/50\n",
      "60/60 [==============================] - 0s 482us/sample - loss: 1416.0120 - val_loss: 2233.8316\n",
      "Epoch 14/50\n",
      "60/60 [==============================] - 0s 515us/sample - loss: 1401.5448 - val_loss: 2211.3749\n",
      "Epoch 15/50\n",
      "60/60 [==============================] - 0s 515us/sample - loss: 1384.3813 - val_loss: 2186.6106\n",
      "Epoch 16/50\n",
      "60/60 [==============================] - 0s 515us/sample - loss: 1367.2997 - val_loss: 2158.1592\n",
      "Epoch 17/50\n",
      "60/60 [==============================] - 0s 549us/sample - loss: 1346.5114 - val_loss: 2126.1935\n",
      "Epoch 18/50\n",
      "60/60 [==============================] - 0s 731us/sample - loss: 1323.5251 - val_loss: 2090.2542\n",
      "Epoch 19/50\n",
      "60/60 [==============================] - 0s 449us/sample - loss: 1294.9164 - val_loss: 2050.6438\n",
      "Epoch 20/50\n",
      "60/60 [==============================] - 0s 465us/sample - loss: 1265.1899 - val_loss: 2005.5311\n",
      "Epoch 21/50\n",
      "60/60 [==============================] - 0s 457us/sample - loss: 1235.5027 - val_loss: 1954.0701\n",
      "Epoch 22/50\n",
      "60/60 [==============================] - 0s 515us/sample - loss: 1195.1629 - val_loss: 1898.1309\n",
      "Epoch 23/50\n",
      "60/60 [==============================] - 0s 449us/sample - loss: 1156.7555 - val_loss: 1836.1128\n",
      "Epoch 24/50\n",
      "60/60 [==============================] - 0s 515us/sample - loss: 1110.8559 - val_loss: 1767.6344\n",
      "Epoch 25/50\n",
      "60/60 [==============================] - 0s 449us/sample - loss: 1062.0118 - val_loss: 1692.2176\n",
      "Epoch 26/50\n",
      "60/60 [==============================] - 0s 532us/sample - loss: 1001.9854 - val_loss: 1612.4992\n",
      "Epoch 27/50\n",
      "60/60 [==============================] - 0s 508us/sample - loss: 946.0028 - val_loss: 1525.3549\n",
      "Epoch 28/50\n",
      "60/60 [==============================] - 0s 914us/sample - loss: 889.6172 - val_loss: 1429.6008\n",
      "Epoch 29/50\n",
      "60/60 [==============================] - 0s 499us/sample - loss: 823.3483 - val_loss: 1328.2852\n",
      "Epoch 30/50\n",
      "60/60 [==============================] - 0s 465us/sample - loss: 744.5938 - val_loss: 1222.8036\n",
      "Epoch 31/50\n",
      "60/60 [==============================] - 0s 499us/sample - loss: 678.3425 - val_loss: 1110.2265\n",
      "Epoch 32/50\n",
      "60/60 [==============================] - 0s 515us/sample - loss: 597.2359 - val_loss: 995.8924\n",
      "Epoch 33/50\n",
      "60/60 [==============================] - 0s 549us/sample - loss: 523.6857 - val_loss: 879.2605\n",
      "Epoch 34/50\n",
      "60/60 [==============================] - 0s 499us/sample - loss: 444.1268 - val_loss: 765.1000\n",
      "Epoch 35/50\n",
      "60/60 [==============================] - 0s 521us/sample - loss: 374.0172 - val_loss: 654.9653\n",
      "Epoch 36/50\n",
      "60/60 [==============================] - 0s 598us/sample - loss: 307.5822 - val_loss: 556.4108\n",
      "Epoch 37/50\n",
      "60/60 [==============================] - 0s 482us/sample - loss: 251.1295 - val_loss: 474.3477\n",
      "Epoch 38/50\n",
      "60/60 [==============================] - 0s 482us/sample - loss: 216.9060 - val_loss: 409.7991\n",
      "Epoch 39/50\n",
      "60/60 [==============================] - 0s 465us/sample - loss: 186.6694 - val_loss: 362.9278\n",
      "Epoch 40/50\n",
      "60/60 [==============================] - 0s 515us/sample - loss: 170.7838 - val_loss: 327.8866\n",
      "Epoch 41/50\n",
      "60/60 [==============================] - 0s 503us/sample - loss: 166.1554 - val_loss: 300.7796\n",
      "Epoch 42/50\n",
      "60/60 [==============================] - 0s 515us/sample - loss: 164.1961 - val_loss: 283.6106\n",
      "Epoch 43/50\n",
      "60/60 [==============================] - 0s 565us/sample - loss: 164.7141 - val_loss: 271.6738\n",
      "Epoch 44/50\n",
      "60/60 [==============================] - 0s 432us/sample - loss: 163.9555 - val_loss: 262.0308\n",
      "Epoch 45/50\n",
      "60/60 [==============================] - 0s 491us/sample - loss: 163.9275 - val_loss: 254.6004\n",
      "Epoch 46/50\n",
      "60/60 [==============================] - 0s 515us/sample - loss: 162.6881 - val_loss: 251.9668\n",
      "Epoch 47/50\n",
      "60/60 [==============================] - 0s 515us/sample - loss: 161.2368 - val_loss: 253.4709\n",
      "Epoch 48/50\n",
      "60/60 [==============================] - 0s 416us/sample - loss: 158.1848 - val_loss: 254.4282\n",
      "Epoch 49/50\n",
      "60/60 [==============================] - 0s 549us/sample - loss: 157.4210 - val_loss: 256.9706\n",
      "Epoch 50/50\n",
      "60/60 [==============================] - 0s 482us/sample - loss: 155.8357 - val_loss: 259.6747\n"
     ]
    }
   ],
   "source": [
    "#\n",
    "# Training configuration\n",
    "#\n",
    "ValidationSplit = 0.7\n",
    "BatchSize       = 25\n",
    "Nepochs         = 50\n",
    "#DropoutValue    = 0.2\n",
    "\n",
    "model = tf.keras.models.Sequential([\n",
    "  tf.keras.layers.Dense(20, input_dim=1, activation=tf.keras.layers.LeakyReLU(alpha=0.1)),\n",
    "  tf.keras.layers.Dense(10, activation=tf.keras.layers.LeakyReLU(alpha=0.1)),\n",
    "  tf.keras.layers.Dense(10, activation=tf.keras.layers.LeakyReLU(alpha=0.1)),\n",
    "  tf.keras.layers.Dense(10, activation=tf.keras.layers.LeakyReLU(alpha=0.1)),\n",
    "  tf.keras.layers.Dense(10, activation=tf.keras.layers.LeakyReLU(alpha=0.1)),\n",
    "  #tf.keras.layers.Dropout(DropoutValue),\n",
    "  tf.keras.layers.Dense(1)\n",
    "])\n",
    "\n",
    "\n",
    "print(\"--------------------------------------------------------------------------------------------------------------\")\n",
    "print(\"\\033[92mWill train a multilayer perceptron using some toy data following y = x^2\\033[0m\")\n",
    "print(\"--------------------------------------------------------------------------------------------------------------\\n\\n\")\n",
    "print(\"Input data MNIST\")\n",
    "#print(\"2 layer MLP with configuration 1:128:128:1\")\n",
    "#print(\"Dropout values       = \", DropoutValue)\n",
    "print(\"Leaky relu parameter =  0.1\")\n",
    "print(\"ValidationSplit      = \", ValidationSplit)\n",
    "print(\"BatchSize            = \", BatchSize)\n",
    "print(\"Nepochs              = \", Nepochs)\n",
    "\n",
    "# now specify the loss function \n",
    "loss_fn = tf.keras.losses.MeanSquaredError()\n",
    "\n",
    "# now we can train the model to make predictions.\n",
    "#   Use the ADAM optimiser\n",
    "#   Specify the metrics to report as accuracy\n",
    "#   Specify the loss function (see above)\n",
    "# the fit step specifies the number of training epochs\n",
    "model.compile(optimizer='adam', loss=loss_fn)\n",
    "history  = model.fit(x_train, y_train, validation_split=ValidationSplit, batch_size=BatchSize, epochs=Nepochs)"
   ]
  },
  {
   "cell_type": "markdown",
   "metadata": {},
   "source": [
    "## Output "
   ]
  },
  {
   "cell_type": "code",
   "execution_count": 344,
   "metadata": {},
   "outputs": [
    {
     "name": "stdout",
     "output_type": "stream",
     "text": [
      "\u001b[1mDisplay the evolution of the loss as a function of the training epoch\u001b[0m\n",
      "\n",
      "  N(Epochs)        =  50\n"
     ]
    },
    {
     "data": {
      "image/png": "[encoded data removed]",
      "text/plain": [
       "<Figure size 432x288 with 1 Axes>"
      ]
     },
     "metadata": {},
     "output_type": "display_data"
    },
    {
     "name": "stdout",
     "output_type": "stream",
     "text": [
      "100/1 - 0s - loss: 451.3141\n",
      "loss = 319.892\n",
      "\n",
      "\u001b[1mDisplay the model prediction against the ground truth from test data\u001b[0m\n",
      "\n"
     ]
    },
    {
     "data": {
      "image/png": "[encoded data removed]",
      "text/plain": [
       "<Figure size 432x288 with 1 Axes>"
      ]
     },
     "metadata": {},
     "output_type": "display_data"
    },
    {
     "name": "stdout",
     "output_type": "stream",
     "text": [
      "\n",
      "\u001b[1mDisplay the difference between the model prediction and the ground truth from test data\u001b[0m\n",
      "\n"
     ]
    },
    {
     "data": {
      "image/png": "[encoded data removed]",
      "text/plain": [
       "<Figure size 432x288 with 1 Axes>"
      ]
     },
     "metadata": {},
     "output_type": "display_data"
    }
   ],
   "source": [
    "import matplotlib.pyplot as plt\n",
    "\n",
    "print(\"\\033[1mDisplay the evolution of the loss as a function of the training epoch\\033[0m\\n\")\n",
    "print(\"  N(Epochs)        = \", Nepochs)\n",
    "#print(\"  loss (train)     = \", history.history['loss'])\n",
    "#print(\"  loss (test)      = \", history.history['val_loss'])\n",
    "\n",
    "# summarize history for loss\n",
    "plt.plot(history.history['loss'])\n",
    "plt.plot(history.history['val_loss'])\n",
    "plt.title('model loss')\n",
    "plt.ylabel('loss')\n",
    "plt.xlabel('epoch')\n",
    "plt.legend(['train', 'validate'], loc='upper right')\n",
    "plt.show()\n",
    "plt.clf()\n",
    "\n",
    "# having finished training the model, use this to evaluate the performance on an\n",
    "# independent sample of test data\n",
    "loss = model.evaluate(x_test,  y_test, verbose=2)\n",
    "print(\"loss = {:5.3f}\".format(loss))\n",
    "\n",
    "print(\"\\n\\033[1mDisplay the model prediction against the ground truth from test data\\033[0m\\n\")\n",
    "\n",
    "#\n",
    "# use the model to make predictions based on the unseen test data\n",
    "#\n",
    "y_predict = model.predict(x_test)\n",
    "plt.plot(x_test, y_predict, \"r.\")\n",
    "plt.plot(x_test, y_test, \"b.\")\n",
    "plt.title('model prediction')\n",
    "plt.ylabel('$y=x^{2}$')\n",
    "plt.xlabel('$x$')\n",
    "plt.legend(['model', 'ground truth'], loc='lower right')\n",
    "plt.show()\n",
    "plt.clf()\n",
    "\n",
    "print(\"\\n\\033[1mDisplay the difference between the model prediction and the ground truth from test data\\033[0m\\n\")\n",
    "\n",
    "delta = []\n",
    "deltapc = []\n",
    "for i in range(len(y_predict)):\n",
    "    thedelta = y_predict[i]-y_test[i]\n",
    "    delta.append( thedelta )\n",
    "    if( x_test[i] ):\n",
    "       deltapc.append( thedelta /  x_test[i] )\n",
    "    else:\n",
    "       deltapc.append( 0.0 )\n",
    "    \n",
    "plt.plot(x_test, delta, \"b.\")\n",
    "plt.plot(x_test, deltapc, \"r.\")\n",
    "plt.legend(['$\\Delta_y$', '$\\Delta_y$ (fraction)'], loc='upper right')\n",
    "plt.title('model prediction accuracy')\n",
    "plt.ylabel('$\\widehat{y}-y$')\n",
    "plt.xlabel('$x$')\n",
    "plt.ylim(-20, 20)\n",
    "plt.show()"
   ]
  },
  {
   "cell_type": "code",
   "execution_count": null,
   "metadata": {
    "collapsed": true
   },
   "outputs": [],
   "source": []
  }
 ],
 "metadata": {
  "kernelspec": {
   "display_name": "Python 3",
   "language": "python",
   "name": "python3"
  },
  "language_info": {
   "codemirror_mode": {
    "name": "ipython",
    "version": 3
   },
   "file_extension": ".py",
   "mimetype": "text/x-python",
   "name": "python",
   "nbconvert_exporter": "python",
   "pygments_lexer": "ipython3",
   "version": "3.6.3"
  }
 },
 "nbformat": 4,
 "nbformat_minor": 2
}
